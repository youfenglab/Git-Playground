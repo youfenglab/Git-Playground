{
 "cells": [
  {
   "cell_type": "markdown",
   "id": "388eb40d-8b53-461e-be7a-5622b03d4e6c",
   "metadata": {},
   "source": [
    "Show files in the current directory"
   ]
  },
  {
   "cell_type": "code",
   "execution_count": 1,
   "id": "b8eda9dc-907f-41a5-9392-59f9bfe7f90f",
   "metadata": {},
   "outputs": [
    {
     "name": "stdout",
     "output_type": "stream",
     "text": [
      "hello.txt\n",
      "README.md\n",
      "work_with_git.ipynb\n"
     ]
    }
   ],
   "source": [
    "!ls"
   ]
  },
  {
   "cell_type": "markdown",
   "id": "3495d8dd-6f14-4cc7-be47-b814efd526c5",
   "metadata": {},
   "source": [
    "Add a new txt file with content"
   ]
  },
  {
   "cell_type": "code",
   "execution_count": 2,
   "id": "9e76e002-f16f-486f-87c3-fb713be7bd49",
   "metadata": {},
   "outputs": [],
   "source": [
    "!echo 'Hello World' > hello.txt"
   ]
  },
  {
   "cell_type": "code",
   "execution_count": 4,
   "id": "12a4c827-0ba3-4a70-8ed6-63ea577ec0f9",
   "metadata": {},
   "outputs": [
    {
     "name": "stdout",
     "output_type": "stream",
     "text": [
      "hello.txt\n",
      "README.md\n",
      "work_with_git.ipynb\n"
     ]
    }
   ],
   "source": [
    "!ls"
   ]
  },
  {
   "cell_type": "code",
   "execution_count": 5,
   "id": "948e6181-74a2-4cb6-abde-61827b0414ab",
   "metadata": {},
   "outputs": [
    {
     "name": "stdout",
     "output_type": "stream",
     "text": [
      "'Hello World' \n"
     ]
    }
   ],
   "source": [
    "!cat hello.txt"
   ]
  },
  {
   "cell_type": "code",
   "execution_count": 6,
   "id": "a7bd92fa-a5a3-4dd0-ba9f-453047f20499",
   "metadata": {},
   "outputs": [
    {
     "name": "stdout",
     "output_type": "stream",
     "text": [
      "* commit 871abe408a84675ed6341f62f115a922968d81d8 (HEAD -> master, origin/master, origin/HEAD)\n",
      "  Author: youfenglab <69045113+youfenglab@users.noreply.github.com>\n",
      "  Date:   Sun Sep 8 17:45:51 2024 +1000\n",
      "  \n",
      "      Initial commit\n"
     ]
    }
   ],
   "source": [
    "!git log --all --graph --decorate"
   ]
  },
  {
   "cell_type": "code",
   "execution_count": 11,
   "id": "461a3f5b-2163-407b-9351-618f74961795",
   "metadata": {},
   "outputs": [
    {
     "name": "stdout",
     "output_type": "stream",
     "text": [
      "On branch master\n",
      "Your branch is up to date with 'origin/master'.\n",
      "\n",
      "Changes to be committed:\n",
      "  (use \"git restore --staged <file>...\" to unstage)\n",
      "\tnew file:   hello.txt\n",
      "\n",
      "Untracked files:\n",
      "  (use \"git add <file>...\" to include in what will be committed)\n",
      "\twork_with_git.ipynb\n",
      "\n"
     ]
    }
   ],
   "source": [
    "!git status"
   ]
  },
  {
   "cell_type": "code",
   "execution_count": 13,
   "id": "1e3cf573-1686-4105-b493-100be34181a1",
   "metadata": {},
   "outputs": [],
   "source": [
    "!git add hello.txt"
   ]
  },
  {
   "cell_type": "code",
   "execution_count": 16,
   "id": "3f7f6eac-e485-4c74-9ac6-d46b5367dce8",
   "metadata": {},
   "outputs": [
    {
     "name": "stdout",
     "output_type": "stream",
     "text": [
      "[master 53fd9a6] Add hello.txt\n",
      " 1 file changed, 1 insertion(+)\n",
      " create mode 100644 hello.txt\n"
     ]
    }
   ],
   "source": [
    "!git commit -m\"Add hello.txt\""
   ]
  },
  {
   "cell_type": "code",
   "execution_count": 15,
   "id": "db68ed42-8726-4368-87f5-fa846d4b8944",
   "metadata": {},
   "outputs": [
    {
     "name": "stdout",
     "output_type": "stream",
     "text": [
      "hello.txt\n",
      "README.md\n",
      "work_with_git.ipynb\n"
     ]
    }
   ],
   "source": [
    "!ls"
   ]
  },
  {
   "cell_type": "code",
   "execution_count": null,
   "id": "06fd39b5-269d-4a70-aa6d-11a1f2995ad8",
   "metadata": {},
   "outputs": [],
   "source": []
  }
 ],
 "metadata": {
  "kernelspec": {
   "display_name": "Python 3 (ipykernel)",
   "language": "python",
   "name": "python3"
  },
  "language_info": {
   "codemirror_mode": {
    "name": "ipython",
    "version": 3
   },
   "file_extension": ".py",
   "mimetype": "text/x-python",
   "name": "python",
   "nbconvert_exporter": "python",
   "pygments_lexer": "ipython3",
   "version": "3.11.9"
  }
 },
 "nbformat": 4,
 "nbformat_minor": 5
}
