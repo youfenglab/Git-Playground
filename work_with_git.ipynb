{
 "cells": [
  {
   "cell_type": "markdown",
   "id": "388eb40d-8b53-461e-be7a-5622b03d4e6c",
   "metadata": {},
   "source": [
    "Show files in the current directory"
   ]
  },
  {
   "cell_type": "code",
   "execution_count": 1,
   "id": "b8eda9dc-907f-41a5-9392-59f9bfe7f90f",
   "metadata": {},
   "outputs": [
    {
     "name": "stdout",
     "output_type": "stream",
     "text": [
      "hello.txt\n",
      "README.md\n",
      "work_with_git.ipynb\n"
     ]
    }
   ],
   "source": [
    "!ls"
   ]
  },
  {
   "cell_type": "markdown",
   "id": "3495d8dd-6f14-4cc7-be47-b814efd526c5",
   "metadata": {},
   "source": [
    "Add a new txt file with content"
   ]
  },
  {
   "cell_type": "code",
   "execution_count": 2,
   "id": "9e76e002-f16f-486f-87c3-fb713be7bd49",
   "metadata": {},
   "outputs": [],
   "source": [
    "!echo 'Hello World' > hello.txt"
   ]
  },
  {
   "cell_type": "code",
   "execution_count": 4,
   "id": "12a4c827-0ba3-4a70-8ed6-63ea577ec0f9",
   "metadata": {},
   "outputs": [
    {
     "name": "stdout",
     "output_type": "stream",
     "text": [
      "hello.txt\n",
      "README.md\n",
      "work_with_git.ipynb\n"
     ]
    }
   ],
   "source": [
    "!ls"
   ]
  },
  {
   "cell_type": "code",
   "execution_count": 5,
   "id": "948e6181-74a2-4cb6-abde-61827b0414ab",
   "metadata": {},
   "outputs": [
    {
     "name": "stdout",
     "output_type": "stream",
     "text": [
      "'Hello World' \n"
     ]
    }
   ],
   "source": [
    "!cat hello.txt"
   ]
  },
  {
   "cell_type": "code",
   "execution_count": 6,
   "id": "a7bd92fa-a5a3-4dd0-ba9f-453047f20499",
   "metadata": {},
   "outputs": [
    {
     "name": "stdout",
     "output_type": "stream",
     "text": [
      "* commit 871abe408a84675ed6341f62f115a922968d81d8 (HEAD -> master, origin/master, origin/HEAD)\n",
      "  Author: youfenglab <69045113+youfenglab@users.noreply.github.com>\n",
      "  Date:   Sun Sep 8 17:45:51 2024 +1000\n",
      "  \n",
      "      Initial commit\n"
     ]
    }
   ],
   "source": [
    "!git log --all --graph --decorate"
   ]
  },
  {
   "cell_type": "code",
   "execution_count": 11,
   "id": "461a3f5b-2163-407b-9351-618f74961795",
   "metadata": {},
   "outputs": [
    {
     "name": "stdout",
     "output_type": "stream",
     "text": [
      "On branch master\n",
      "Your branch is up to date with 'origin/master'.\n",
      "\n",
      "Changes to be committed:\n",
      "  (use \"git restore --staged <file>...\" to unstage)\n",
      "\tnew file:   hello.txt\n",
      "\n",
      "Untracked files:\n",
      "  (use \"git add <file>...\" to include in what will be committed)\n",
      "\twork_with_git.ipynb\n",
      "\n"
     ]
    }
   ],
   "source": [
    "!git status"
   ]
  },
  {
   "cell_type": "code",
   "execution_count": 13,
   "id": "1e3cf573-1686-4105-b493-100be34181a1",
   "metadata": {},
   "outputs": [],
   "source": [
    "!git add hello.txt"
   ]
  },
  {
   "cell_type": "code",
   "execution_count": 16,
   "id": "3f7f6eac-e485-4c74-9ac6-d46b5367dce8",
   "metadata": {},
   "outputs": [
    {
     "name": "stdout",
     "output_type": "stream",
     "text": [
      "[master 53fd9a6] Add hello.txt\n",
      " 1 file changed, 1 insertion(+)\n",
      " create mode 100644 hello.txt\n"
     ]
    }
   ],
   "source": [
    "!git commit -m\"Add hello.txt\""
   ]
  },
  {
   "cell_type": "code",
   "execution_count": 17,
   "id": "db68ed42-8726-4368-87f5-fa846d4b8944",
   "metadata": {},
   "outputs": [
    {
     "name": "stdout",
     "output_type": "stream",
     "text": [
      "On branch master\n",
      "Your branch is ahead of 'origin/master' by 1 commit.\n",
      "  (use \"git push\" to publish your local commits)\n",
      "\n",
      "Untracked files:\n",
      "  (use \"git add <file>...\" to include in what will be committed)\n",
      "\twork_with_git.ipynb\n",
      "\n",
      "nothing added to commit but untracked files present (use \"git add\" to track)\n"
     ]
    }
   ],
   "source": [
    "!git status"
   ]
  },
  {
   "cell_type": "code",
   "execution_count": 19,
   "id": "06fd39b5-269d-4a70-aa6d-11a1f2995ad8",
   "metadata": {},
   "outputs": [
    {
     "name": "stderr",
     "output_type": "stream",
     "text": [
      "warning: in the working copy of 'work_with_git.ipynb', LF will be replaced by CRLF the next time Git touches it\n"
     ]
    }
   ],
   "source": [
    "!git add work_with_git.ipynb"
   ]
  },
  {
   "cell_type": "code",
   "execution_count": 22,
   "id": "d96eb914-c4e9-4134-85ef-1d2a6fde7b89",
   "metadata": {},
   "outputs": [
    {
     "name": "stdout",
     "output_type": "stream",
     "text": [
      "[master 8e1a69a] Add a jupyter notebook\n",
      " 1 file changed, 217 insertions(+)\n",
      " create mode 100644 work_with_git.ipynb\n"
     ]
    }
   ],
   "source": [
    "!git commit -m\"Add a jupyter notebook\""
   ]
  },
  {
   "cell_type": "code",
   "execution_count": 23,
   "id": "16534d84-588b-4ac2-8748-f8b837c2996c",
   "metadata": {},
   "outputs": [
    {
     "name": "stdout",
     "output_type": "stream",
     "text": [
      "On branch master\n",
      "Your branch is ahead of 'origin/master' by 1 commit.\n",
      "  (use \"git push\" to publish your local commits)\n",
      "\n",
      "Changes not staged for commit:\n",
      "  (use \"git add <file>...\" to update what will be committed)\n",
      "  (use \"git restore <file>...\" to discard changes in working directory)\n",
      "\tmodified:   work_with_git.ipynb\n",
      "\n",
      "no changes added to commit (use \"git add\" and/or \"git commit -a\")\n"
     ]
    }
   ],
   "source": [
    "!git status"
   ]
  },
  {
   "cell_type": "code",
   "execution_count": 24,
   "id": "9b4760e9-451c-4267-84b4-c516aae7c390",
   "metadata": {},
   "outputs": [
    {
     "name": "stderr",
     "output_type": "stream",
     "text": [
      "To github.com:youfenglab/Git-Playground.git\n",
      "   53fd9a6..8e1a69a  master -> master\n"
     ]
    }
   ],
   "source": [
    "!git push"
   ]
  },
  {
   "cell_type": "code",
   "execution_count": 25,
   "id": "6d7afed9-2042-4db2-abbc-66322d0b30b8",
   "metadata": {},
   "outputs": [
    {
     "name": "stdout",
     "output_type": "stream",
     "text": [
      "* commit 8e1a69a13cc6c095b9912e8178ab8f85046357d6 (HEAD -> master, origin/master, origin/HEAD)\n",
      "| Author: Youfeng <zhouyoufeng@gmail.com>\n",
      "| Date:   Sun Sep 8 18:13:12 2024 +1000\n",
      "| \n",
      "|     Add a jupyter notebook\n",
      "| \n",
      "* commit 53fd9a6455e62d3d2b6cd3b41443c333a631219f\n",
      "| Author: Youfeng <zhouyoufeng@gmail.com>\n",
      "| Date:   Sun Sep 8 18:06:47 2024 +1000\n",
      "| \n",
      "|     Add hello.txt\n",
      "| \n",
      "* commit 871abe408a84675ed6341f62f115a922968d81d8\n",
      "  Author: youfenglab <69045113+youfenglab@users.noreply.github.com>\n",
      "  Date:   Sun Sep 8 17:45:51 2024 +1000\n",
      "  \n",
      "      Initial commit\n"
     ]
    }
   ],
   "source": [
    "!git log --all --graph --decorate"
   ]
  },
  {
   "cell_type": "code",
   "execution_count": 27,
   "id": "5a09be3d-a038-4150-a80e-ef94f7d18add",
   "metadata": {},
   "outputs": [
    {
     "name": "stdout",
     "output_type": "stream",
     "text": [
      "* 8e1a69a (HEAD -> master, origin/master, origin/HEAD) Add a jupyter notebook\n",
      "* 53fd9a6 Add hello.txt\n",
      "* 871abe4 Initial commit\n"
     ]
    }
   ],
   "source": [
    "!git log --all --graph --decorate --oneline"
   ]
  },
  {
   "cell_type": "code",
   "execution_count": 31,
   "id": "def31b9e-8e09-4bf0-a16d-311ac19215d1",
   "metadata": {},
   "outputs": [
    {
     "name": "stdout",
     "output_type": "stream",
     "text": [
      "tree 036e8b3df9eeba8e80fe9bd200387dccfdae1c62\n",
      "parent 53fd9a6455e62d3d2b6cd3b41443c333a631219f\n",
      "author Youfeng <zhouyoufeng@gmail.com> 1725783192 +1000\n",
      "committer Youfeng <zhouyoufeng@gmail.com> 1725783192 +1000\n",
      "\n",
      "Add a jupyter notebook\n"
     ]
    }
   ],
   "source": [
    "!git cat-file -p 8e1a69a"
   ]
  },
  {
   "cell_type": "code",
   "execution_count": 32,
   "id": "992d991b-24bd-4a46-9ade-ec21c198e2d6",
   "metadata": {},
   "outputs": [
    {
     "name": "stdout",
     "output_type": "stream",
     "text": [
      "100644 blob 82f927558a3dff0ea8c20858856e70779fd02c93\t.gitignore\n",
      "100644 blob 63d3a1df2f22dd6e68981f5edad75c74357937a9\tREADME.md\n",
      "100644 blob b461d18278a41304fa3fa5b97747d07086340b27\thello.txt\n",
      "100644 blob e62e5336d61c66b1f9d7b520e0617def7be68c0c\twork_with_git.ipynb\n"
     ]
    }
   ],
   "source": [
    "!git cat-file -p 036e8b3"
   ]
  },
  {
   "cell_type": "code",
   "execution_count": 33,
   "id": "6406f784-f732-4118-a6d2-128cf8ae8a5f",
   "metadata": {},
   "outputs": [
    {
     "name": "stdout",
     "output_type": "stream",
     "text": [
      "'Hello World' \n"
     ]
    }
   ],
   "source": [
    "!git cat-file -p b461d18"
   ]
  },
  {
   "cell_type": "code",
   "execution_count": 34,
   "id": "04053ed7-6c5f-419b-a4da-498e799a6cf5",
   "metadata": {},
   "outputs": [
    {
     "name": "stdout",
     "output_type": "stream",
     "text": [
      "* master\n"
     ]
    }
   ],
   "source": [
    "!git branch"
   ]
  },
  {
   "cell_type": "code",
   "execution_count": 36,
   "id": "e9bda5be-f520-4f56-b87a-3ff212ee6773",
   "metadata": {},
   "outputs": [
    {
     "name": "stdout",
     "output_type": "stream",
     "text": [
      "On branch master\n",
      "Your branch is up to date with 'origin/master'.\n",
      "\n",
      "Changes not staged for commit:\n",
      "  (use \"git add <file>...\" to update what will be committed)\n",
      "  (use \"git restore <file>...\" to discard changes in working directory)\n",
      "\tmodified:   work_with_git.ipynb\n",
      "\n",
      "no changes added to commit (use \"git add\" and/or \"git commit -a\")\n"
     ]
    }
   ],
   "source": [
    "!git status"
   ]
  },
  {
   "cell_type": "code",
   "execution_count": null,
   "id": "20cfb391-f6c8-44e6-b886-4da8fe458781",
   "metadata": {},
   "outputs": [],
   "source": []
  }
 ],
 "metadata": {
  "kernelspec": {
   "display_name": "Python 3 (ipykernel)",
   "language": "python",
   "name": "python3"
  },
  "language_info": {
   "codemirror_mode": {
    "name": "ipython",
    "version": 3
   },
   "file_extension": ".py",
   "mimetype": "text/x-python",
   "name": "python",
   "nbconvert_exporter": "python",
   "pygments_lexer": "ipython3",
   "version": "3.11.9"
  }
 },
 "nbformat": 4,
 "nbformat_minor": 5
}
